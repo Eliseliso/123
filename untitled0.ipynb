{
  "nbformat": 4,
  "nbformat_minor": 0,
  "metadata": {
    "colab": {
      "provenance": [],
      "authorship_tag": "ABX9TyO8UoIFsjPRvmvZsLKkyjOo",
      "include_colab_link": true
    },
    "kernelspec": {
      "name": "python3",
      "display_name": "Python 3"
    },
    "language_info": {
      "name": "python"
    }
  },
  "cells": [
    {
      "cell_type": "markdown",
      "metadata": {
        "id": "view-in-github",
        "colab_type": "text"
      },
      "source": [
        "<a href=\"https://colab.research.google.com/github/Eliseliso/123/blob/main/untitled0.ipynb\" target=\"_parent\"><img src=\"https://colab.research.google.com/assets/colab-badge.svg\" alt=\"Open In Colab\"/></a>"
      ]
    },
    {
      "cell_type": "code",
      "execution_count": null,
      "metadata": {
        "id": "UHPGVIbZFJNi"
      },
      "outputs": [],
      "source": []
    },
    {
      "cell_type": "markdown",
      "source": [
        "**Задача 40:** \n",
        "- Работать с файлом california_housing_train.csv, который находится в папке sample_data. \n",
        "- Определить среднюю стоимость дома, где кол-во людей от 0 до 500 (population).\n"
      ],
      "metadata": {
        "id": "pd9y71FCFK6a"
      }
    },
    {
      "cell_type": "code",
      "source": [
        "import pandas as pd\n",
        "\n",
        "df = pd.read_csv('sample_data/california_housing_train.csv')\n",
        "df[df['population']<501]['median_house_value'].agg(['mean'])"
      ],
      "metadata": {
        "colab": {
          "base_uri": "https://localhost:8080/"
        },
        "id": "46Bc5ygYFX6q",
        "outputId": "5adb93b8-3f22-4bc6-da10-b32e5600d923"
      },
      "execution_count": null,
      "outputs": [
        {
          "output_type": "execute_result",
          "data": {
            "text/plain": [
              "mean    206799.951402\n",
              "Name: median_house_value, dtype: float64"
            ]
          },
          "metadata": {},
          "execution_count": 7
        }
      ]
    },
    {
      "cell_type": "markdown",
      "source": [
        "**Задача 42:** \n",
        "- Узнать какая максимальная households в зоне минимального значения population."
      ],
      "metadata": {
        "id": "uyLJsVDuG1nt"
      }
    },
    {
      "cell_type": "code",
      "source": [
        "df[df['population']==df['population'].min()]['households'].max()"
      ],
      "metadata": {
        "colab": {
          "base_uri": "https://localhost:8080/"
        },
        "id": "q-WePdRQHCgI",
        "outputId": "12762f81-c9df-4841-d6c3-05e2ad1d305b"
      },
      "execution_count": null,
      "outputs": [
        {
          "output_type": "execute_result",
          "data": {
            "text/plain": [
              "4.0"
            ]
          },
          "metadata": {},
          "execution_count": 8
        }
      ]
    }
  ]
}